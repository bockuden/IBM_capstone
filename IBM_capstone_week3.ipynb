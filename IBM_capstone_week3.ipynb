{
 "cells": [
  {
   "cell_type": "markdown",
   "metadata": {},
   "source": [
    "# IBM capstone project"
   ]
  },
  {
   "cell_type": "code",
   "execution_count": 1,
   "metadata": {},
   "outputs": [],
   "source": [
    "import pandas as pd\n",
    "import numpy as np"
   ]
  },
  {
   "cell_type": "code",
   "execution_count": 2,
   "metadata": {},
   "outputs": [
    {
     "name": "stdout",
     "output_type": "stream",
     "text": [
      "Hello Capstone Project Course!\n"
     ]
    }
   ],
   "source": [
    "print(\"Hello Capstone Project Course!\")"
   ]
  },
  {
   "cell_type": "markdown",
   "metadata": {},
   "source": [
    "# Week3"
   ]
  },
  {
   "cell_type": "markdown",
   "metadata": {},
   "source": [
    "#### Get data"
   ]
  },
  {
   "cell_type": "code",
   "execution_count": 3,
   "metadata": {},
   "outputs": [],
   "source": [
    "from bs4 import BeautifulSoup\n",
    "import requests\n",
    "url = 'https://en.wikipedia.org/wiki/List_of_postal_codes_of_Canada:_M'\n",
    "# Getting the webpage, creating a Response object.\n",
    "response = requests.get(url)\n",
    "# Extracting the source code of the page.\n",
    "data = response.text\n",
    "soup = BeautifulSoup(data, 'html.parser')\n",
    "#get table with data and convert her to pandas DataFrame\n",
    "df = pd.read_html(soup.table.prettify())[0]\n",
    "#Ignore cells with a borough that is Not assigned\n",
    "df = df[df.Borough != 'Not assigned']"
   ]
  },
  {
   "cell_type": "markdown",
   "metadata": {},
   "source": [
    "####  Process data"
   ]
  },
  {
   "cell_type": "code",
   "execution_count": 4,
   "metadata": {},
   "outputs": [],
   "source": [
    "column_names = ['Postcode','Borough', 'Neighbourhood'] \n",
    "neighborhoods = pd.DataFrame(columns=column_names)\n",
    "#get rows with a unique Postcode\n",
    "for post in df['Postcode'].unique():\n",
    "    df_tmp = df[df.Postcode == post]\n",
    "    borough = ''\n",
    "    neighborhood_name = ''\n",
    "    for index, row in df_tmp.iterrows():\n",
    "        borough = row['Borough']\n",
    "        tmp_neighbor = row['Neighbourhood']\n",
    "        #If a cell has a borough but a Not assigned\n",
    "        # neighborhood, then the neighborhood will be the same as the borough\n",
    "        if tmp_neighbor == 'Not assigned':\n",
    "            row['Neighbourhood'] = borough\n",
    "            \n",
    "        #create new Neighbourhood\n",
    "        if neighborhood_name == '':\n",
    "            neighborhood_name = tmp_neighbor\n",
    "        else:\n",
    "            neighborhood_name += ', ' + tmp_neighbor\n",
    "    \n",
    "    neighborhoods = neighborhoods.append({'Postcode': post,\n",
    "                                          'Borough': borough,\n",
    "                                          'Neighbourhood': neighborhood_name},\n",
    "                                          ignore_index=True)"
   ]
  },
  {
   "cell_type": "code",
   "execution_count": 5,
   "metadata": {},
   "outputs": [
    {
     "data": {
      "text/plain": [
       "(103, 3)"
      ]
     },
     "execution_count": 5,
     "metadata": {},
     "output_type": "execute_result"
    }
   ],
   "source": [
    "neighborhoods.shape"
   ]
  },
  {
   "cell_type": "code",
   "execution_count": null,
   "metadata": {},
   "outputs": [],
   "source": []
  }
 ],
 "metadata": {
  "kernelspec": {
   "display_name": "Python 3",
   "language": "python",
   "name": "python3"
  },
  "language_info": {
   "codemirror_mode": {
    "name": "ipython",
    "version": 3
   },
   "file_extension": ".py",
   "mimetype": "text/x-python",
   "name": "python",
   "nbconvert_exporter": "python",
   "pygments_lexer": "ipython3",
   "version": "3.7.3"
  }
 },
 "nbformat": 4,
 "nbformat_minor": 2
}
